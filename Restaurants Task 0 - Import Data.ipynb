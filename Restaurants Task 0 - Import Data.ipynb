{
 "cells": [
  {
   "cell_type": "markdown",
   "metadata": {},
   "source": [
    "The restaurants dataset comes from the SemEval 2014 task 4 - aspect based sentiment analysis.  It is stored in XML format and so the first task is to load and convert it to a format which is easier to work with for subsequent tasks."
   ]
  },
  {
   "cell_type": "code",
   "execution_count": 2,
   "metadata": {},
   "outputs": [],
   "source": [
    "import xml.etree.ElementTree as et"
   ]
  },
  {
   "cell_type": "code",
   "execution_count": 3,
   "metadata": {},
   "outputs": [],
   "source": [
    "xtree = et.parse(\"Restaurants_Train.xml\")\n",
    "xroot = xtree.getroot()"
   ]
  },
  {
   "cell_type": "code",
   "execution_count": 82,
   "metadata": {},
   "outputs": [],
   "source": [
    "def get_dict(sentence):\n",
    "    \n",
    "    \"\"\" Get dictionary from each XML sentence object \"\"\"\n",
    "    \n",
    "    sid = sentence.attrib[\"id\"]\n",
    "    text = sentence[0].text\n",
    "    \n",
    "    if len(sentence) == 3:\n",
    "        at = sentence[1]\n",
    "        ac = sentence[2]     \n",
    "    else:\n",
    "        at = []\n",
    "        ac = sentence[1]\n",
    "        \n",
    "    aspect_terms = [{\"term\": aspect_term.attrib[\"term\"],\n",
    "        \"polarity\": aspect_term.attrib[\"polarity\"],\n",
    "         \"from\": int(aspect_term.attrib[\"from\"]),\n",
    "         \"to\":int(aspect_term.attrib[\"to\"])} for aspect_term in at]\n",
    "    \n",
    "    aspect_categories = [\n",
    "        {\"category\": aspect_category.attrib[\"category\"], \"polarity\": aspect_category.attrib[\"polarity\"]} \n",
    "        for aspect_category in ac]\n",
    "    \n",
    "    return {\"id\": sid, \"text\": text, \"aspect_terms\": aspect_terms, \"aspect_categories\": aspect_categories}\n",
    "\n",
    "restaurant_reviews = [get_dict(sentence) for sentence in xroot]"
   ]
  },
  {
   "cell_type": "markdown",
   "metadata": {},
   "source": [
    "Let's take a look at our first dictionary object to make sure it is as expected."
   ]
  },
  {
   "cell_type": "code",
   "execution_count": 96,
   "metadata": {},
   "outputs": [
    {
     "data": {
      "text/plain": [
       "{'id': '3121',\n",
       " 'text': 'But the staff was so horrible to us.',\n",
       " 'aspect_terms': [{'term': 'staff',\n",
       "   'polarity': 'negative',\n",
       "   'from': 8,\n",
       "   'to': 13}],\n",
       " 'aspect_categories': [{'category': 'service', 'polarity': 'negative'}]}"
      ]
     },
     "execution_count": 96,
     "metadata": {},
     "output_type": "execute_result"
    }
   ],
   "source": [
    "restaurant_reviews[0]"
   ]
  },
  {
   "cell_type": "markdown",
   "metadata": {},
   "source": [
    "Great!  Now let's save this as as pandas DataFrame."
   ]
  },
  {
   "cell_type": "code",
   "execution_count": 99,
   "metadata": {},
   "outputs": [],
   "source": [
    "import pandas as pd\n",
    "import pickle\n",
    "\n",
    "data = pd.DataFrame(restaurant_reviews)\n",
    "\n",
    "with open('restaurant.pickle', 'wb') as handle:\n",
    "    pickle.dump(data, handle)"
   ]
  }
 ],
 "metadata": {
  "kernelspec": {
   "display_name": "Python 3",
   "language": "python",
   "name": "python3"
  },
  "language_info": {
   "codemirror_mode": {
    "name": "ipython",
    "version": 3
   },
   "file_extension": ".py",
   "mimetype": "text/x-python",
   "name": "python",
   "nbconvert_exporter": "python",
   "pygments_lexer": "ipython3",
   "version": "3.7.0"
  }
 },
 "nbformat": 4,
 "nbformat_minor": 2
}
